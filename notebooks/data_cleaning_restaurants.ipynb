{
 "cells": [
  {
   "cell_type": "code",
   "execution_count": 1,
   "metadata": {},
   "outputs": [],
   "source": [
    "from bs4 import BeautifulSoup\n",
    "import pandas as pd\n",
    "from geopy.geocoders import GoogleV3\n",
    "from shapely.geometry import Point\n",
    "import geopandas as gpd\n",
    "from random import randint\n",
    "from time import sleep"
   ]
  },
  {
   "cell_type": "code",
   "execution_count": 2,
   "metadata": {},
   "outputs": [],
   "source": [
    "%matplotlib inline"
   ]
  },
  {
   "cell_type": "markdown",
   "metadata": {},
   "source": [
    "This import will fail unless you create a `credentials.py` file. See `credentials_template.py`"
   ]
  },
  {
   "cell_type": "code",
   "execution_count": 3,
   "metadata": {},
   "outputs": [],
   "source": [
    "from credentials import GOOGLE_KEY"
   ]
  },
  {
   "cell_type": "markdown",
   "metadata": {},
   "source": [
    "Read html copied from `http://www.in-n-out.com/locations`"
   ]
  },
  {
   "cell_type": "code",
   "execution_count": 4,
   "metadata": {},
   "outputs": [],
   "source": [
    "with open(\"../data/innout/locator.html\", \"r\") as f:\n",
    "    html = f.read()"
   ]
  },
  {
   "cell_type": "markdown",
   "metadata": {},
   "source": [
    "Parse html and grab a list of results"
   ]
  },
  {
   "cell_type": "code",
   "execution_count": 5,
   "metadata": {},
   "outputs": [],
   "source": [
    "soup = BeautifulSoup(html)\n",
    "results = soup.find_all(\"div\", class_ = \"result\")"
   ]
  },
  {
   "cell_type": "markdown",
   "metadata": {},
   "source": [
    "Loop results and grab data"
   ]
  },
  {
   "cell_type": "code",
   "execution_count": 6,
   "metadata": {
    "scrolled": false
   },
   "outputs": [],
   "source": [
    "stores = []\n",
    "\n",
    "for each in results:\n",
    "    store_number = each['data-storenumber']\n",
    "    address = each.find('h3').text\n",
    "    p = each.find('h3').next_sibling.find_all(\"span\")\n",
    "    city = p[0].text\n",
    "    state = p[1].text\n",
    "    \n",
    "    stores.append({\n",
    "        \"store_number\": store_number,\n",
    "        \"city\": city,\n",
    "        \"state\": state,\n",
    "        \"address\": address,\n",
    "        \"latitude\": \"na\",\n",
    "        \"longitude\": \"na\"\n",
    "    })\n",
    "    "
   ]
  },
  {
   "cell_type": "markdown",
   "metadata": {},
   "source": [
    "Set up the Google API"
   ]
  },
  {
   "cell_type": "code",
   "execution_count": 7,
   "metadata": {},
   "outputs": [],
   "source": [
    "locator = GoogleV3(api_key=GOOGLE_KEY, timeout = 10)"
   ]
  },
  {
   "cell_type": "markdown",
   "metadata": {},
   "source": [
    "Geocode"
   ]
  },
  {
   "cell_type": "code",
   "execution_count": 8,
   "metadata": {},
   "outputs": [],
   "source": [
    "for each in stores:\n",
    "    location = locator.geocode(f\"{each['address']}, {each['city']}, {each['state']}, USA\")\n",
    "    \n",
    "    each['latitude'] = location.latitude\n",
    "    each['longitude'] = location.longitude"
   ]
  },
  {
   "cell_type": "markdown",
   "metadata": {},
   "source": [
    "Create a dataframe"
   ]
  },
  {
   "cell_type": "code",
   "execution_count": 9,
   "metadata": {},
   "outputs": [
    {
     "data": {
      "text/html": [
       "<div>\n",
       "<style scoped>\n",
       "    .dataframe tbody tr th:only-of-type {\n",
       "        vertical-align: middle;\n",
       "    }\n",
       "\n",
       "    .dataframe tbody tr th {\n",
       "        vertical-align: top;\n",
       "    }\n",
       "\n",
       "    .dataframe thead th {\n",
       "        text-align: right;\n",
       "    }\n",
       "</style>\n",
       "<table border=\"1\" class=\"dataframe\">\n",
       "  <thead>\n",
       "    <tr style=\"text-align: right;\">\n",
       "      <th></th>\n",
       "      <th>address</th>\n",
       "      <th>city</th>\n",
       "      <th>latitude</th>\n",
       "      <th>longitude</th>\n",
       "      <th>state</th>\n",
       "      <th>store_number</th>\n",
       "    </tr>\n",
       "  </thead>\n",
       "  <tbody>\n",
       "    <tr>\n",
       "      <th>0</th>\n",
       "      <td>555 Willie Stargell Ave.</td>\n",
       "      <td>Alameda</td>\n",
       "      <td>37.783793</td>\n",
       "      <td>-122.277219</td>\n",
       "      <td>CA</td>\n",
       "      <td>303</td>\n",
       "    </tr>\n",
       "    <tr>\n",
       "      <th>1</th>\n",
       "      <td>1210 N. Atlantic Blvd.</td>\n",
       "      <td>Alhambra</td>\n",
       "      <td>34.105994</td>\n",
       "      <td>-118.134390</td>\n",
       "      <td>CA</td>\n",
       "      <td>121</td>\n",
       "    </tr>\n",
       "    <tr>\n",
       "      <th>2</th>\n",
       "      <td>190 E. Stacy Rd.</td>\n",
       "      <td>Allen</td>\n",
       "      <td>33.126701</td>\n",
       "      <td>-96.659140</td>\n",
       "      <td>TX</td>\n",
       "      <td>255</td>\n",
       "    </tr>\n",
       "  </tbody>\n",
       "</table>\n",
       "</div>"
      ],
      "text/plain": [
       "                    address      city   latitude   longitude state  \\\n",
       "0  555 Willie Stargell Ave.   Alameda  37.783793 -122.277219    CA   \n",
       "1    1210 N. Atlantic Blvd.  Alhambra  34.105994 -118.134390    CA   \n",
       "2          190 E. Stacy Rd.     Allen  33.126701  -96.659140    TX   \n",
       "\n",
       "  store_number  \n",
       "0          303  \n",
       "1          121  \n",
       "2          255  "
      ]
     },
     "execution_count": 9,
     "metadata": {},
     "output_type": "execute_result"
    }
   ],
   "source": [
    "df = pd.DataFrame(stores)\n",
    "df.head(3)"
   ]
  },
  {
   "cell_type": "markdown",
   "metadata": {},
   "source": [
    "Create a `coordinates` column"
   ]
  },
  {
   "cell_type": "code",
   "execution_count": 10,
   "metadata": {},
   "outputs": [],
   "source": [
    "df['coordinates'] = list(zip(\n",
    "    pd.to_numeric(df.longitude), \n",
    "    pd.to_numeric(df.latitude)\n",
    "))\n",
    "                         \n",
    "# use shapely to transform tuples to `Points`\n",
    "df['coordinates'] = df['coordinates'].apply(Point)"
   ]
  },
  {
   "cell_type": "code",
   "execution_count": 11,
   "metadata": {},
   "outputs": [
    {
     "data": {
      "text/html": [
       "<div>\n",
       "<style scoped>\n",
       "    .dataframe tbody tr th:only-of-type {\n",
       "        vertical-align: middle;\n",
       "    }\n",
       "\n",
       "    .dataframe tbody tr th {\n",
       "        vertical-align: top;\n",
       "    }\n",
       "\n",
       "    .dataframe thead th {\n",
       "        text-align: right;\n",
       "    }\n",
       "</style>\n",
       "<table border=\"1\" class=\"dataframe\">\n",
       "  <thead>\n",
       "    <tr style=\"text-align: right;\">\n",
       "      <th></th>\n",
       "      <th>address</th>\n",
       "      <th>city</th>\n",
       "      <th>latitude</th>\n",
       "      <th>longitude</th>\n",
       "      <th>state</th>\n",
       "      <th>store_number</th>\n",
       "      <th>coordinates</th>\n",
       "    </tr>\n",
       "  </thead>\n",
       "  <tbody>\n",
       "    <tr>\n",
       "      <th>0</th>\n",
       "      <td>555 Willie Stargell Ave.</td>\n",
       "      <td>Alameda</td>\n",
       "      <td>37.783793</td>\n",
       "      <td>-122.277219</td>\n",
       "      <td>CA</td>\n",
       "      <td>303</td>\n",
       "      <td>POINT (-122.2772186 37.7837934)</td>\n",
       "    </tr>\n",
       "    <tr>\n",
       "      <th>1</th>\n",
       "      <td>1210 N. Atlantic Blvd.</td>\n",
       "      <td>Alhambra</td>\n",
       "      <td>34.105994</td>\n",
       "      <td>-118.134390</td>\n",
       "      <td>CA</td>\n",
       "      <td>121</td>\n",
       "      <td>POINT (-118.1343897 34.1059937)</td>\n",
       "    </tr>\n",
       "    <tr>\n",
       "      <th>2</th>\n",
       "      <td>190 E. Stacy Rd.</td>\n",
       "      <td>Allen</td>\n",
       "      <td>33.126701</td>\n",
       "      <td>-96.659140</td>\n",
       "      <td>TX</td>\n",
       "      <td>255</td>\n",
       "      <td>POINT (-96.65913979999999 33.1267011)</td>\n",
       "    </tr>\n",
       "    <tr>\n",
       "      <th>3</th>\n",
       "      <td>601 W. Main St.</td>\n",
       "      <td>American Fork</td>\n",
       "      <td>40.386869</td>\n",
       "      <td>-111.858506</td>\n",
       "      <td>UT</td>\n",
       "      <td>239</td>\n",
       "      <td>POINT (-111.8585055 40.386869)</td>\n",
       "    </tr>\n",
       "    <tr>\n",
       "      <th>4</th>\n",
       "      <td>1168 State College Blvd.</td>\n",
       "      <td>Anaheim</td>\n",
       "      <td>33.819029</td>\n",
       "      <td>-117.888938</td>\n",
       "      <td>CA</td>\n",
       "      <td>300</td>\n",
       "      <td>POINT (-117.8889384 33.8190293)</td>\n",
       "    </tr>\n",
       "  </tbody>\n",
       "</table>\n",
       "</div>"
      ],
      "text/plain": [
       "                    address           city   latitude   longitude state  \\\n",
       "0  555 Willie Stargell Ave.        Alameda  37.783793 -122.277219    CA   \n",
       "1    1210 N. Atlantic Blvd.       Alhambra  34.105994 -118.134390    CA   \n",
       "2          190 E. Stacy Rd.          Allen  33.126701  -96.659140    TX   \n",
       "3           601 W. Main St.  American Fork  40.386869 -111.858506    UT   \n",
       "4  1168 State College Blvd.        Anaheim  33.819029 -117.888938    CA   \n",
       "\n",
       "  store_number                            coordinates  \n",
       "0          303        POINT (-122.2772186 37.7837934)  \n",
       "1          121        POINT (-118.1343897 34.1059937)  \n",
       "2          255  POINT (-96.65913979999999 33.1267011)  \n",
       "3          239         POINT (-111.8585055 40.386869)  \n",
       "4          300        POINT (-117.8889384 33.8190293)  "
      ]
     },
     "execution_count": 11,
     "metadata": {},
     "output_type": "execute_result"
    }
   ],
   "source": [
    "df.head()"
   ]
  },
  {
   "cell_type": "code",
   "execution_count": 12,
   "metadata": {},
   "outputs": [],
   "source": [
    "# convert to GeoDataFrame\n",
    "gdf = gpd.GeoDataFrame(\n",
    "    df, \n",
    "    geometry = 'coordinates'\n",
    ")\n",
    "\n",
    "# http://spatialreference.org/ref/epsg/4326/\n",
    "gdf.crs = {'init':'epsg:4326'}"
   ]
  },
  {
   "cell_type": "markdown",
   "metadata": {},
   "source": [
    "Check to see if it works"
   ]
  },
  {
   "cell_type": "code",
   "execution_count": 13,
   "metadata": {},
   "outputs": [
    {
     "data": {
      "text/plain": [
       "<matplotlib.axes._subplots.AxesSubplot at 0x11951f0b8>"
      ]
     },
     "execution_count": 13,
     "metadata": {},
     "output_type": "execute_result"
    },
    {
     "data": {
      "image/png": "[encoded data removed]",
      "text/plain": [
       "<Figure size 432x288 with 1 Axes>"
      ]
     },
     "metadata": {
      "needs_background": "light"
     },
     "output_type": "display_data"
    }
   ],
   "source": [
    "gdf.plot()"
   ]
  },
  {
   "cell_type": "code",
   "execution_count": 14,
   "metadata": {},
   "outputs": [
    {
     "data": {
      "text/plain": [
       "<matplotlib.axes._subplots.AxesSubplot at 0x11be0d400>"
      ]
     },
     "execution_count": 14,
     "metadata": {},
     "output_type": "execute_result"
    },
    {
     "data": {
      "image/png": "[encoded data removed]",
      "text/plain": [
       "<Figure size 432x288 with 1 Axes>"
      ]
     },
     "metadata": {
      "needs_background": "light"
     },
     "output_type": "display_data"
    }
   ],
   "source": [
    "gdf.to_crs({\"init\": \"epsg:2163\"}).plot()"
   ]
  },
  {
   "cell_type": "markdown",
   "metadata": {},
   "source": [
    "Write to file"
   ]
  },
  {
   "cell_type": "code",
   "execution_count": 15,
   "metadata": {},
   "outputs": [
    {
     "name": "stderr",
     "output_type": "stream",
     "text": [
      "/Users/scottpham/.local/share/virtualenvs/geopandas-sVWd-EJh/lib/python3.6/site-packages/geopandas/io/file.py:108: FionaDeprecationWarning: Use fiona.Env() instead.\n",
      "  with fiona.drivers():\n"
     ]
    }
   ],
   "source": [
    "gdf.to_crs(\n",
    "    {\"init\": \"epsg:2163\"}\n",
    ").to_file(\n",
    "    \"../output/innout/innout.shp\"\n",
    ")"
   ]
  }
 ],
 "metadata": {
  "kernelspec": {
   "display_name": "Python 3",
   "language": "python",
   "name": "python3"
  },
  "language_info": {
   "codemirror_mode": {
    "name": "ipython",
    "version": 3
   },
   "file_extension": ".py",
   "mimetype": "text/x-python",
   "name": "python",
   "nbconvert_exporter": "python",
   "pygments_lexer": "ipython3",
   "version": "3.6.4"
  }
 },
 "nbformat": 4,
 "nbformat_minor": 2
}
